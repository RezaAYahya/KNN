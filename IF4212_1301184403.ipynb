{
 "cells": [
  {
   "cell_type": "markdown",
   "metadata": {},
   "source": [
    "# Tugas Pemrograman 3 Pengantar Kecerdasan Buatan\n",
    "Nama : Reza Ahmad Yahya <br> \n",
    "NIM : 1301184403 <br>\n",
    "Kelas : IF-42-12"
   ]
  },
  {
   "cell_type": "markdown",
   "metadata": {},
   "source": [
    "## Import Library"
   ]
  },
  {
   "cell_type": "code",
   "execution_count": 34,
   "metadata": {},
   "outputs": [],
   "source": [
    "import pandas as pd\n",
    "import math\n",
    "import numpy as np"
   ]
  },
  {
   "cell_type": "markdown",
   "metadata": {},
   "source": [
    "## Pembuatan Fungsi yang Dibutuhkan"
   ]
  },
  {
   "cell_type": "markdown",
   "metadata": {},
   "source": [
    "### 1. Perhitungan Ukuran jarak\n",
    "Menggunakan <b>Euclidean Distance</b>"
   ]
  },
  {
   "cell_type": "code",
   "execution_count": 35,
   "metadata": {},
   "outputs": [],
   "source": [
    "def hitungJarak(test, train, row_test):\n",
    "    arr_dist = []\n",
    "    for row_train in range(len(train)):\n",
    "        dist = 0\n",
    "        for col in range(len(test[row_test])):\n",
    "            dist += (test[row_test][col] - train[row_train][col])**2\n",
    "\n",
    "        arr_dist.append([math.sqrt(dist), row_train])\n",
    "    arr_dist.sort()  \n",
    "    return arr_dist"
   ]
  },
  {
   "cell_type": "markdown",
   "metadata": {},
   "source": [
    "### 2. Data Preprocessing\n",
    "\n",
    "<ol> \n",
    "    <li>Algoritma preprocessing pertama mengganti nilai 0 pada <code>kolom = ['Glucose', 'BloodPressure', 'SkinThickness', 'Insulin', 'BMI']</code> dengan nilai mean</li>\n",
    "    <li>Algoritma preprocessing kedua akan menjadikan data pada satu skala. Algoritma ini mengikuti konsep <b>Normalization</b> dan <b>Standardization</b>. <code>StandardScaler = ( X[i] - mean ) / std</code></li>\n",
    "</ol>"
   ]
  },
  {
   "cell_type": "code",
   "execution_count": 36,
   "metadata": {},
   "outputs": [],
   "source": [
    "def cleaning(data):\n",
    "    kolom = ['Glucose', 'BloodPressure', 'SkinThickness', 'Insulin', 'BMI']\n",
    "    for column in kolom:\n",
    "        data[column] = data[column].replace(0, np.NaN)\n",
    "        mean = int(data[column].mean(skipna=True))\n",
    "        data[column] = data[column].replace(np.NaN, mean)\n",
    "    return data"
   ]
  },
  {
   "cell_type": "code",
   "execution_count": 37,
   "metadata": {},
   "outputs": [],
   "source": [
    "def StandardScaler(i, index_data, column_data, key):\n",
    "    scale = []\n",
    "    for row in index_data:\n",
    "        temp = []\n",
    "        for col in column_data:\n",
    "            mean = x_train[i][col].mean()\n",
    "            std = x_train[i][col].std()\n",
    "            if ( key == 'train'):\n",
    "                temp.append((x_train[i][col][row] - mean) / std)\n",
    "            elif ( key == 'test'):\n",
    "                temp.append((x_test[i][col][row] - mean) / std)\n",
    "        scale.append(temp)\n",
    "    return scale"
   ]
  },
  {
   "cell_type": "markdown",
   "metadata": {},
   "source": [
    "### 3. Klasifikasi KNN\n",
    "mengklasifikasikan data test yang sedang diprediksi hasilnya untuk mendapatkan hasil akurasi saat dibandingkan dengan data aslinya."
   ]
  },
  {
   "cell_type": "code",
   "execution_count": 38,
   "metadata": {},
   "outputs": [],
   "source": [
    "def classification(neighbors, i, y_index):\n",
    "    class_0 = 0\n",
    "    class_1 = 0\n",
    "    for row_neigh in range(len(neighbors)):\n",
    "        if ( y_train[i][y_index[neighbors[row_neigh][1]]] == 1 ):\n",
    "            class_1 += 1\n",
    "        else :\n",
    "            class_0 += 1\n",
    "            \n",
    "    if ( class_0 > class_1 ):\n",
    "        return 0\n",
    "    else:\n",
    "        return 1"
   ]
  },
  {
   "cell_type": "markdown",
   "metadata": {},
   "source": [
    "### 4. Akurasi Skor\n",
    "<code>Akurasi = Hasil Benar / Banyak data * 100</code>"
   ]
  },
  {
   "cell_type": "code",
   "execution_count": 39,
   "metadata": {},
   "outputs": [],
   "source": [
    "def accuracy_score(hasil, i):\n",
    "    return len(hasil[hasil == True]) / len(y_pred[i]) * 100"
   ]
  },
  {
   "cell_type": "markdown",
   "metadata": {},
   "source": [
    "### 5. Cek Hasil\n",
    "untuk membandingkan hasil prediksi dengan data asli"
   ]
  },
  {
   "cell_type": "code",
   "execution_count": 40,
   "metadata": {},
   "outputs": [],
   "source": [
    "def validasi(i):\n",
    "    return y_test[i] == y_pred[i]"
   ]
  },
  {
   "cell_type": "markdown",
   "metadata": {},
   "source": [
    "### 6. Algoritma KNN\n",
    "<ol> \n",
    "    <li> Menghitung Jarak </li>\n",
    "    <li> Mengambil k tetangga terdekat </li>\n",
    "    <li> Mengklasifikasi </li>\n",
    "</ol>"
   ]
  },
  {
   "cell_type": "code",
   "execution_count": 53,
   "metadata": {},
   "outputs": [],
   "source": [
    "def knn(k):    \n",
    "    for i in dataset:\n",
    "        # Inisialisasi array\n",
    "        arr_pred = []\n",
    "        y_index = []\n",
    "\n",
    "        # x_train dan x_test yang sudah di scaling (Preprocessing)\n",
    "        # terdapat nilai k untuk tiap datasets\n",
    "        x_trainScale = StandardScaler(i, x_train[i].index, x_train[i].columns, 'train')\n",
    "        x_testScale = StandardScaler(i, x_test[i].index, x_train[i].columns, 'test')\n",
    "\n",
    "        # Menyimpan index dataset y_train\n",
    "        for row in y_train[i].index:\n",
    "            y_index.append(row)\n",
    "\n",
    "        # Proses Algoritma KNN untuk mendapatkan nilai Prediksi\n",
    "        for row_test in range(len(x_testScale)):\n",
    "            arr_dist = hitungJarak(x_testScale, x_trainScale, row_test)\n",
    "            neighbors = arr_dist[0:k]\n",
    "            arr_pred.append(classification(neighbors, i, y_index))\n",
    "\n",
    "        y_pred[i] = arr_pred\n",
    "#     k_scores.append(average(y_pred))"
   ]
  },
  {
   "cell_type": "markdown",
   "metadata": {},
   "source": [
    "## Main Program"
   ]
  },
  {
   "cell_type": "code",
   "execution_count": 42,
   "metadata": {},
   "outputs": [
    {
     "data": {
      "text/html": [
       "<div>\n",
       "<style scoped>\n",
       "    .dataframe tbody tr th:only-of-type {\n",
       "        vertical-align: middle;\n",
       "    }\n",
       "\n",
       "    .dataframe tbody tr th {\n",
       "        vertical-align: top;\n",
       "    }\n",
       "\n",
       "    .dataframe thead th {\n",
       "        text-align: right;\n",
       "    }\n",
       "</style>\n",
       "<table border=\"1\" class=\"dataframe\">\n",
       "  <thead>\n",
       "    <tr style=\"text-align: right;\">\n",
       "      <th></th>\n",
       "      <th>Pregnancies</th>\n",
       "      <th>Glucose</th>\n",
       "      <th>BloodPressure</th>\n",
       "      <th>SkinThickness</th>\n",
       "      <th>Insulin</th>\n",
       "      <th>BMI</th>\n",
       "      <th>DiabetesPedigreeFunction</th>\n",
       "      <th>Age</th>\n",
       "      <th>Outcome</th>\n",
       "    </tr>\n",
       "  </thead>\n",
       "  <tbody>\n",
       "    <tr>\n",
       "      <th>0</th>\n",
       "      <td>6</td>\n",
       "      <td>148</td>\n",
       "      <td>72</td>\n",
       "      <td>35</td>\n",
       "      <td>0</td>\n",
       "      <td>33.6</td>\n",
       "      <td>0.627</td>\n",
       "      <td>50</td>\n",
       "      <td>1</td>\n",
       "    </tr>\n",
       "    <tr>\n",
       "      <th>1</th>\n",
       "      <td>1</td>\n",
       "      <td>85</td>\n",
       "      <td>66</td>\n",
       "      <td>29</td>\n",
       "      <td>0</td>\n",
       "      <td>26.6</td>\n",
       "      <td>0.351</td>\n",
       "      <td>31</td>\n",
       "      <td>0</td>\n",
       "    </tr>\n",
       "    <tr>\n",
       "      <th>2</th>\n",
       "      <td>8</td>\n",
       "      <td>183</td>\n",
       "      <td>64</td>\n",
       "      <td>0</td>\n",
       "      <td>0</td>\n",
       "      <td>23.3</td>\n",
       "      <td>0.672</td>\n",
       "      <td>32</td>\n",
       "      <td>1</td>\n",
       "    </tr>\n",
       "    <tr>\n",
       "      <th>3</th>\n",
       "      <td>1</td>\n",
       "      <td>89</td>\n",
       "      <td>66</td>\n",
       "      <td>23</td>\n",
       "      <td>94</td>\n",
       "      <td>28.1</td>\n",
       "      <td>0.167</td>\n",
       "      <td>21</td>\n",
       "      <td>0</td>\n",
       "    </tr>\n",
       "    <tr>\n",
       "      <th>4</th>\n",
       "      <td>0</td>\n",
       "      <td>137</td>\n",
       "      <td>40</td>\n",
       "      <td>35</td>\n",
       "      <td>168</td>\n",
       "      <td>43.1</td>\n",
       "      <td>2.288</td>\n",
       "      <td>33</td>\n",
       "      <td>1</td>\n",
       "    </tr>\n",
       "  </tbody>\n",
       "</table>\n",
       "</div>"
      ],
      "text/plain": [
       "   Pregnancies  Glucose  BloodPressure  SkinThickness  Insulin   BMI  \\\n",
       "0            6      148             72             35        0  33.6   \n",
       "1            1       85             66             29        0  26.6   \n",
       "2            8      183             64              0        0  23.3   \n",
       "3            1       89             66             23       94  28.1   \n",
       "4            0      137             40             35      168  43.1   \n",
       "\n",
       "   DiabetesPedigreeFunction  Age  Outcome  \n",
       "0                     0.627   50        1  \n",
       "1                     0.351   31        0  \n",
       "2                     0.672   32        1  \n",
       "3                     0.167   21        0  \n",
       "4                     2.288   33        1  "
      ]
     },
     "execution_count": 42,
     "metadata": {},
     "output_type": "execute_result"
    }
   ],
   "source": [
    "# Inisialisasi variabel\n",
    "filename = 'Diabetes.csv'\n",
    "data = pd.read_csv(filename)\n",
    "x_train = {}\n",
    "x_test = {}\n",
    "y_train = {}\n",
    "y_test = {}\n",
    "y_pred = {}\n",
    "k_scores = []\n",
    "\n",
    "data.head()"
   ]
  },
  {
   "cell_type": "markdown",
   "metadata": {},
   "source": [
    "## Pembuatan Lima Datasets Baru\n",
    "Pertama-tama mengganti nilai-nilai yang 0 pada <code>kolom = ['Glucose', 'BloodPressure', 'SkinThickness', 'Insulin', 'BMI']</code> karena akan memengaruhi <b>outcomenya</b>, ini termasuk <b>Preprocessing Cleaning data</b>. Lalu kita split dulu data menjadi x dan y dengan x berisi semua data dari semua kolom kecuali kolom outcome dan y berisi semua data dari kolom outcome. Setelah itu kita membuat 5 subdatasets berdasarkan berikut: \n",
    "1.\tBaris ke-1 sampai baris ke-614 sebagai training set dan sisanya sebagai testing set;\n",
    "2.\tBaris ke-1 sampai baris ke-461 ditambah baris ke-615 sampai 768 sebagai training set dan yang lain sebagai testing set;\n",
    "3.\tBaris ke-1 sampai baris ke-307 ditambah baris ke-462 sampai 768 sebagai training set dan yang lain sebagai testing set;\n",
    "4.\tBaris ke-1 sampai baris ke-154 ditambah baris ke-308 sampai 768 sebagai training set dan yang lain sebagai testing set; dan\n",
    "5.\tBaris ke-155 sampai sampai 768 sebagai training set dan yang lain sebagai testing set.\n",
    "\n",
    "Data tersebut akan menjadi bagian dari <b>K-Fold Cross Validation</b>"
   ]
  },
  {
   "cell_type": "code",
   "execution_count": 43,
   "metadata": {},
   "outputs": [
    {
     "data": {
      "text/html": [
       "<div>\n",
       "<style scoped>\n",
       "    .dataframe tbody tr th:only-of-type {\n",
       "        vertical-align: middle;\n",
       "    }\n",
       "\n",
       "    .dataframe tbody tr th {\n",
       "        vertical-align: top;\n",
       "    }\n",
       "\n",
       "    .dataframe thead th {\n",
       "        text-align: right;\n",
       "    }\n",
       "</style>\n",
       "<table border=\"1\" class=\"dataframe\">\n",
       "  <thead>\n",
       "    <tr style=\"text-align: right;\">\n",
       "      <th></th>\n",
       "      <th>Pregnancies</th>\n",
       "      <th>Glucose</th>\n",
       "      <th>BloodPressure</th>\n",
       "      <th>SkinThickness</th>\n",
       "      <th>Insulin</th>\n",
       "      <th>BMI</th>\n",
       "      <th>DiabetesPedigreeFunction</th>\n",
       "      <th>Age</th>\n",
       "      <th>Outcome</th>\n",
       "    </tr>\n",
       "  </thead>\n",
       "  <tbody>\n",
       "    <tr>\n",
       "      <th>0</th>\n",
       "      <td>6</td>\n",
       "      <td>148.0</td>\n",
       "      <td>72.0</td>\n",
       "      <td>35.0</td>\n",
       "      <td>155.0</td>\n",
       "      <td>33.6</td>\n",
       "      <td>0.627</td>\n",
       "      <td>50</td>\n",
       "      <td>1</td>\n",
       "    </tr>\n",
       "    <tr>\n",
       "      <th>1</th>\n",
       "      <td>1</td>\n",
       "      <td>85.0</td>\n",
       "      <td>66.0</td>\n",
       "      <td>29.0</td>\n",
       "      <td>155.0</td>\n",
       "      <td>26.6</td>\n",
       "      <td>0.351</td>\n",
       "      <td>31</td>\n",
       "      <td>0</td>\n",
       "    </tr>\n",
       "    <tr>\n",
       "      <th>2</th>\n",
       "      <td>8</td>\n",
       "      <td>183.0</td>\n",
       "      <td>64.0</td>\n",
       "      <td>29.0</td>\n",
       "      <td>155.0</td>\n",
       "      <td>23.3</td>\n",
       "      <td>0.672</td>\n",
       "      <td>32</td>\n",
       "      <td>1</td>\n",
       "    </tr>\n",
       "    <tr>\n",
       "      <th>3</th>\n",
       "      <td>1</td>\n",
       "      <td>89.0</td>\n",
       "      <td>66.0</td>\n",
       "      <td>23.0</td>\n",
       "      <td>94.0</td>\n",
       "      <td>28.1</td>\n",
       "      <td>0.167</td>\n",
       "      <td>21</td>\n",
       "      <td>0</td>\n",
       "    </tr>\n",
       "    <tr>\n",
       "      <th>4</th>\n",
       "      <td>0</td>\n",
       "      <td>137.0</td>\n",
       "      <td>40.0</td>\n",
       "      <td>35.0</td>\n",
       "      <td>168.0</td>\n",
       "      <td>43.1</td>\n",
       "      <td>2.288</td>\n",
       "      <td>33</td>\n",
       "      <td>1</td>\n",
       "    </tr>\n",
       "  </tbody>\n",
       "</table>\n",
       "</div>"
      ],
      "text/plain": [
       "   Pregnancies  Glucose  BloodPressure  SkinThickness  Insulin   BMI  \\\n",
       "0            6    148.0           72.0           35.0    155.0  33.6   \n",
       "1            1     85.0           66.0           29.0    155.0  26.6   \n",
       "2            8    183.0           64.0           29.0    155.0  23.3   \n",
       "3            1     89.0           66.0           23.0     94.0  28.1   \n",
       "4            0    137.0           40.0           35.0    168.0  43.1   \n",
       "\n",
       "   DiabetesPedigreeFunction  Age  Outcome  \n",
       "0                     0.627   50        1  \n",
       "1                     0.351   31        0  \n",
       "2                     0.672   32        1  \n",
       "3                     0.167   21        0  \n",
       "4                     2.288   33        1  "
      ]
     },
     "execution_count": 43,
     "metadata": {},
     "output_type": "execute_result"
    }
   ],
   "source": [
    "# Preprocessing\n",
    "dataClean = cleaning(data)\n",
    "dataClean.head()"
   ]
  },
  {
   "cell_type": "code",
   "execution_count": 44,
   "metadata": {},
   "outputs": [
    {
     "data": {
      "text/html": [
       "<div>\n",
       "<style scoped>\n",
       "    .dataframe tbody tr th:only-of-type {\n",
       "        vertical-align: middle;\n",
       "    }\n",
       "\n",
       "    .dataframe tbody tr th {\n",
       "        vertical-align: top;\n",
       "    }\n",
       "\n",
       "    .dataframe thead th {\n",
       "        text-align: right;\n",
       "    }\n",
       "</style>\n",
       "<table border=\"1\" class=\"dataframe\">\n",
       "  <thead>\n",
       "    <tr style=\"text-align: right;\">\n",
       "      <th></th>\n",
       "      <th>Pregnancies</th>\n",
       "      <th>Glucose</th>\n",
       "      <th>BloodPressure</th>\n",
       "      <th>SkinThickness</th>\n",
       "      <th>Insulin</th>\n",
       "      <th>BMI</th>\n",
       "      <th>DiabetesPedigreeFunction</th>\n",
       "      <th>Age</th>\n",
       "    </tr>\n",
       "  </thead>\n",
       "  <tbody>\n",
       "    <tr>\n",
       "      <th>0</th>\n",
       "      <td>6</td>\n",
       "      <td>148.0</td>\n",
       "      <td>72.0</td>\n",
       "      <td>35.0</td>\n",
       "      <td>155.0</td>\n",
       "      <td>33.6</td>\n",
       "      <td>0.627</td>\n",
       "      <td>50</td>\n",
       "    </tr>\n",
       "    <tr>\n",
       "      <th>1</th>\n",
       "      <td>1</td>\n",
       "      <td>85.0</td>\n",
       "      <td>66.0</td>\n",
       "      <td>29.0</td>\n",
       "      <td>155.0</td>\n",
       "      <td>26.6</td>\n",
       "      <td>0.351</td>\n",
       "      <td>31</td>\n",
       "    </tr>\n",
       "    <tr>\n",
       "      <th>2</th>\n",
       "      <td>8</td>\n",
       "      <td>183.0</td>\n",
       "      <td>64.0</td>\n",
       "      <td>29.0</td>\n",
       "      <td>155.0</td>\n",
       "      <td>23.3</td>\n",
       "      <td>0.672</td>\n",
       "      <td>32</td>\n",
       "    </tr>\n",
       "    <tr>\n",
       "      <th>3</th>\n",
       "      <td>1</td>\n",
       "      <td>89.0</td>\n",
       "      <td>66.0</td>\n",
       "      <td>23.0</td>\n",
       "      <td>94.0</td>\n",
       "      <td>28.1</td>\n",
       "      <td>0.167</td>\n",
       "      <td>21</td>\n",
       "    </tr>\n",
       "    <tr>\n",
       "      <th>4</th>\n",
       "      <td>0</td>\n",
       "      <td>137.0</td>\n",
       "      <td>40.0</td>\n",
       "      <td>35.0</td>\n",
       "      <td>168.0</td>\n",
       "      <td>43.1</td>\n",
       "      <td>2.288</td>\n",
       "      <td>33</td>\n",
       "    </tr>\n",
       "  </tbody>\n",
       "</table>\n",
       "</div>"
      ],
      "text/plain": [
       "   Pregnancies  Glucose  BloodPressure  SkinThickness  Insulin   BMI  \\\n",
       "0            6    148.0           72.0           35.0    155.0  33.6   \n",
       "1            1     85.0           66.0           29.0    155.0  26.6   \n",
       "2            8    183.0           64.0           29.0    155.0  23.3   \n",
       "3            1     89.0           66.0           23.0     94.0  28.1   \n",
       "4            0    137.0           40.0           35.0    168.0  43.1   \n",
       "\n",
       "   DiabetesPedigreeFunction  Age  \n",
       "0                     0.627   50  \n",
       "1                     0.351   31  \n",
       "2                     0.672   32  \n",
       "3                     0.167   21  \n",
       "4                     2.288   33  "
      ]
     },
     "execution_count": 44,
     "metadata": {},
     "output_type": "execute_result"
    }
   ],
   "source": [
    "# Split x dan y berdasarkan kolom Outcome\n",
    "x = dataClean.iloc[:, :8]\n",
    "y = dataClean.iloc[:, 8]\n",
    "\n",
    "dataset = {\n",
    "    1 : (614, 768),\n",
    "    2 : (461, 614),\n",
    "    3 : (307, 461),\n",
    "    4 : (154, 307),\n",
    "    5 : (0, 154)\n",
    "}\n",
    "\n",
    "for i in dataset:\n",
    "    x_train[i] = x.drop([j for j in range(dataset[i][0], dataset[i][1])])\n",
    "    x_test[i] = x[dataset[i][0]:dataset[i][1]]\n",
    "    y_train[i] = y.drop([j for j in range(dataset[i][0], dataset[i][1])])\n",
    "    y_test[i] = y[dataset[i][0]:dataset[i][1]]\n",
    "    \n",
    "x_train[1].head()"
   ]
  },
  {
   "cell_type": "code",
   "execution_count": 45,
   "metadata": {},
   "outputs": [],
   "source": [
    "k = 26\n",
    "knn(k)"
   ]
  },
  {
   "cell_type": "code",
   "execution_count": 46,
   "metadata": {},
   "outputs": [
    {
     "name": "stdout",
     "output_type": "stream",
     "text": [
      "\n",
      "Datasets ke- 1\n",
      "Prediksi Benar : 126\n",
      "Prediksi Salah : 28\n",
      "Skor Akurasi : 81.81818181818183%\n",
      "\n",
      "Datasets ke- 2\n",
      "Prediksi Benar : 121\n",
      "Prediksi Salah : 32\n",
      "Skor Akurasi : 79.08496732026144%\n",
      "\n",
      "Datasets ke- 3\n",
      "Prediksi Benar : 123\n",
      "Prediksi Salah : 31\n",
      "Skor Akurasi : 79.87012987012987%\n",
      "\n",
      "Datasets ke- 4\n",
      "Prediksi Benar : 106\n",
      "Prediksi Salah : 47\n",
      "Skor Akurasi : 69.28104575163398%\n",
      "\n",
      "Datasets ke- 5\n",
      "Prediksi Benar : 117\n",
      "Prediksi Salah : 37\n",
      "Skor Akurasi : 75.97402597402598%\n",
      "\n",
      "Rata-rata Akurasi : 77.20567014684661%\n"
     ]
    }
   ],
   "source": [
    "average = 0\n",
    "for i in y_pred:\n",
    "    hasil = validasi(i)\n",
    "    skor = accuracy_score(hasil, i)\n",
    "    average += skor\n",
    "    print('\\nDatasets ke- ' + str(i))\n",
    "    print('Prediksi Benar : ' + str(len(hasil[hasil == True])))\n",
    "    print('Prediksi Salah : ' + str(len(hasil[hasil == False])))\n",
    "    print('Skor Akurasi : ' + str(skor) + '%')\n",
    "print('\\nRata-rata Akurasi : ' + str(average/5) +'%')"
   ]
  },
  {
   "cell_type": "markdown",
   "metadata": {},
   "source": [
    "## Best K Program\n",
    "<code>Note : temporary program, hanya untuk mencari nilai K terbaik dan plottingan untuk kebutuhan data laporan</code>\n",
    "<br>Perulangan dari k = 3 to k = 30 untuk mencari nilai k terbaik"
   ]
  },
  {
   "cell_type": "markdown",
   "metadata": {},
   "source": [
    "### Pemilihan Nilai K Terbaik\n",
    "Fungsi untuk menuntukan nilai K terbaik"
   ]
  },
  {
   "cell_type": "code",
   "execution_count": 47,
   "metadata": {},
   "outputs": [],
   "source": [
    "# def nilaiK(k_scores):\n",
    "#     maks = max(k_scores)\n",
    "#     count = 3\n",
    "#     for i,j in k_scores:\n",
    "#         if i == maks[0]:\n",
    "#             best_k = count\n",
    "#         else:\n",
    "#             count+=1\n",
    "\n",
    "#     return best_k"
   ]
  },
  {
   "cell_type": "markdown",
   "metadata": {},
   "source": [
    "### Rata-rata Akurasi\n",
    "menghitung rata-rata akurasi 5-Fold Cross Validation"
   ]
  },
  {
   "cell_type": "code",
   "execution_count": 48,
   "metadata": {},
   "outputs": [],
   "source": [
    "# def average(prediksi):\n",
    "#     average = 0\n",
    "#     hasil = {}\n",
    "#     for i in dataset:\n",
    "#         hasil[i] = validasi(i)\n",
    "#         score = accuracy_score(hasil[i], i)\n",
    "#         average += score\n",
    "#     return (average/5, hasil)"
   ]
  },
  {
   "cell_type": "code",
   "execution_count": 49,
   "metadata": {},
   "outputs": [],
   "source": [
    "# def output(final):  \n",
    "#     best_k = nilaiK(final)\n",
    "#     print('Nilai K Terbaik : ' + str(best_k))\n",
    "#     print('Rata-rata Akurasi : ' + str(final[best_k-3][0]))\n",
    "\n",
    "#     for i in dataset:\n",
    "#         hasil = final[best_k-3][1]\n",
    "#         score = accuracy_score(hasil[i], i)\n",
    "\n",
    "#         print('\\nDatasets ke- ' + str(i))\n",
    "#         print('Prediksi Benar : ' + str(len(hasil[i][hasil[i] == True])))\n",
    "#         print('Prediksi Salah : ' + str(len(hasil[i][hasil[i] == False])))\n",
    "#         print('Skor Akurasi : ' + str(score) + '%')"
   ]
  },
  {
   "cell_type": "markdown",
   "metadata": {},
   "source": [
    "### Proses pencarian nilai K terbaik\n",
    "dari <code> k=3 to k=30 </code>"
   ]
  },
  {
   "cell_type": "code",
   "execution_count": 50,
   "metadata": {},
   "outputs": [],
   "source": [
    "# k_range = range(3, 31)\n",
    "# for k in k_range:\n",
    "#     knn(k)"
   ]
  },
  {
   "cell_type": "code",
   "execution_count": 51,
   "metadata": {},
   "outputs": [],
   "source": [
    "# output(k_scores)"
   ]
  },
  {
   "cell_type": "code",
   "execution_count": 52,
   "metadata": {},
   "outputs": [],
   "source": [
    "# import matplotlib.pyplot as plt\n",
    "\n",
    "# x = [i for i in range(3,31)]\n",
    "# y = []\n",
    "# xticks = [i*3 for i in range(1, 11)]\n",
    "# for i in k_scores:\n",
    "#     y.append(i[0])\n",
    "\n",
    "# fig, ax = plt.subplots()\n",
    "# ax.plot(x, y)\n",
    "# ax.set_xlabel('K [3-30]')\n",
    "# ax.set_ylabel('Rata-rata Akurasi')\n",
    "# ax.set_title('Hasil Rata-rata Akurasi tiap K dari [3..30]')\n",
    "# ax.set_xticks(xticks)\n",
    "# plt.show()"
   ]
  }
 ],
 "metadata": {
  "kernelspec": {
   "display_name": "myenv",
   "language": "python",
   "name": "myenv"
  },
  "language_info": {
   "codemirror_mode": {
    "name": "ipython",
    "version": 3
   },
   "file_extension": ".py",
   "mimetype": "text/x-python",
   "name": "python",
   "nbconvert_exporter": "python",
   "pygments_lexer": "ipython3",
   "version": "3.8.1"
  }
 },
 "nbformat": 4,
 "nbformat_minor": 4
}
